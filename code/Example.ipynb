{
 "cells": [
  {
   "cell_type": "code",
   "execution_count": 79,
   "metadata": {},
   "outputs": [],
   "source": [
    "import pandas as pd\n",
    "import networkx as nx\n",
    "import glob\n",
    "from networkx.algorithms import community\n",
    "from datetime import datetime\n",
    "import seaborn as sns\n",
    "import pandas as pd\n",
    "from matplotlib import pyplot as plt"
   ]
  },
  {
   "cell_type": "code",
   "execution_count": 87,
   "metadata": {},
   "outputs": [
    {
     "data": {
      "text/plain": [
       "'2021-01-05 18:04:41.265344'"
      ]
     },
     "execution_count": 87,
     "metadata": {},
     "output_type": "execute_result"
    }
   ],
   "source": [
    "str(datetime.today())"
   ]
  },
  {
   "cell_type": "code",
   "execution_count": 40,
   "metadata": {},
   "outputs": [
    {
     "name": "stdout",
     "output_type": "stream",
     "text": [
      "../data/facebook_combined.txt\n",
      "../data/soc-Slashdot0811.txt\n"
     ]
    }
   ],
   "source": [
    "networks = glob.glob('../data/*.txt')\n",
    "for file in networks:\n",
    "    print(file)\n",
    "    \n",
    "\n",
    "fbEdges = open(networks[0],'r').readlines()[4:]\n",
    "fbEdges = list(map(lambda x:list(map(lambda y: int(y),x.rstrip().split())), fbEdges))\n",
    "\n",
    "size_times = []"
   ]
  },
  {
   "cell_type": "markdown",
   "metadata": {},
   "source": [
    "## We make networks from some anonymized facebook data taken from the Stanford Network Analysis Project (http://snap.stanford.edu/) and we run a simple community detection algorithm on it. We use a variety of sizes for subnetworks to demonstrate duration for running the algorithm, and how it gets sped up on larger RAM."
   ]
  },
  {
   "cell_type": "markdown",
   "metadata": {},
   "source": [
    "### Facebook:\n",
    "#### We time the algorithm with some increasing subnetworks and we plot the results."
   ]
  },
  {
   "cell_type": "markdown",
   "metadata": {},
   "source": [
    "##### Network 1"
   ]
  },
  {
   "cell_type": "code",
   "execution_count": 91,
   "metadata": {},
   "outputs": [
    {
     "name": "stdout",
     "output_type": "stream",
     "text": [
      "Time for graph 0 in seconds is: 2\n",
      "Time for graph 1 in seconds is: 0\n",
      "Time for graph 2 in seconds is: 2\n",
      "Time for graph 3 in seconds is: 7\n",
      "Time for graph 4 in seconds is: 24\n",
      "Time for graph 5 in seconds is: 33\n",
      "Time for graph 6 in seconds is: 155\n",
      "Time for graph 7 in seconds is: 138\n",
      "Time for graph 8 in seconds is: 272\n",
      "Time for graph 9 in seconds is: 275\n",
      "Time for graph 10 in seconds is: 297\n",
      "Time for graph 11 in seconds is: 308\n"
     ]
    },
    {
     "data": {
      "image/png": "[encoded data removed]",
      "text/plain": [
       "<Figure size 432x288 with 1 Axes>"
      ]
     },
     "metadata": {
      "needs_background": "light"
     },
     "output_type": "display_data"
    }
   ],
   "source": [
    "size_times = []\n",
    "Size = 500\n",
    "Iterations = 12\n",
    "\n",
    "for i in range(Iterations):\n",
    "    size = (i+1)*Size\n",
    "    fb = nx.Graph()\n",
    "    fb.add_edges_from(fbEdges[:size])\n",
    "    start = datetime.now()\n",
    "    community_generatorFB = community.girvan_newman(fb)\n",
    "    _ = next(community_generatorFB)\n",
    "    finish = datetime.now()\n",
    "    time = (finish-start).seconds\n",
    "    print('Time for graph '+str(i)+' in seconds is: '+str(time))\n",
    "    size_times.append((size,time))\n",
    "    \n",
    "records = pd.DataFrame(size_times,columns = ['Size','Seconds'])\n",
    "\n",
    "_ = sns.lineplot(data=records, x=\"Size\", y=\"Seconds\")\n",
    "filename = '../Size by Time '+str(datetime.today())+'.png'\n",
    "plt.savefig(filename)\n"
   ]
  }
 ],
 "metadata": {
  "kernelspec": {
   "display_name": "Python 3",
   "language": "python",
   "name": "python3"
  },
  "language_info": {
   "codemirror_mode": {
    "name": "ipython",
    "version": 3
   },
   "file_extension": ".py",
   "mimetype": "text/x-python",
   "name": "python",
   "nbconvert_exporter": "python",
   "pygments_lexer": "ipython3",
   "version": "3.7.9"
  }
 },
 "nbformat": 4,
 "nbformat_minor": 4
}
