{
 "cells": [
  {
   "cell_type": "code",
   "execution_count": 4,
   "metadata": {},
   "outputs": [],
   "source": [
    "import pandas as pd\n",
    "import networkx as nx\n",
    "import glob"
   ]
  },
  {
   "cell_type": "code",
   "execution_count": 3,
   "metadata": {},
   "outputs": [
    {
     "name": "stdout",
     "output_type": "stream",
     "text": [
      "../data/facebook_combined.txt\n",
      "../data/soc-Slashdot0811.txt\n"
     ]
    }
   ],
   "source": [
    "networks = glob.glob('../data/*.txt')\n",
    "for file in networks:\n",
    "    print(file)"
   ]
  },
  {
   "cell_type": "code",
   "execution_count": 5,
   "metadata": {},
   "outputs": [],
   "source": [
    "\n"
   ]
  },
  {
   "cell_type": "code",
   "execution_count": 61,
   "metadata": {},
   "outputs": [],
   "source": [
    "faceEdges = open(networks[0],'r').readlines()\n",
    "faceEdges = list(map(lambda x:list(map(lambda y: int(y),x.rstrip().split())), faceEdges))\n",
    "face = nx.Graph()\n",
    "face.add_edges_from(faceEdges)"
   ]
  },
  {
   "cell_type": "code",
   "execution_count": 60,
   "metadata": {},
   "outputs": [],
   "source": [
    "slashEdges = open(networks[-1],'r').readlines()[4:]\n",
    "slashEdges = list(map(lambda x:list(map(lambda y: int(y),x.rstrip().split('\\t'))), slashEdges))\n",
    "slash = nx.Graph()\n",
    "slash.add_edges_from(slashEdges)"
   ]
  }
 ],
 "metadata": {
  "kernelspec": {
   "display_name": "Python 3",
   "language": "python",
   "name": "python3"
  },
  "language_info": {
   "codemirror_mode": {
    "name": "ipython",
    "version": 3
   },
   "file_extension": ".py",
   "mimetype": "text/x-python",
   "name": "python",
   "nbconvert_exporter": "python",
   "pygments_lexer": "ipython3",
   "version": "3.7.9"
  }
 },
 "nbformat": 4,
 "nbformat_minor": 4
}
